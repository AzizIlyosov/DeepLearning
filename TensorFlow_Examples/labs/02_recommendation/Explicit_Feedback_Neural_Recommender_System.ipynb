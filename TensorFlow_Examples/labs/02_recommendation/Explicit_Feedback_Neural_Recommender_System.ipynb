{
 "cells": [
  {
   "cell_type": "markdown",
   "metadata": {
    "deletable": true,
    "editable": true
   },
   "source": [
    "# Explicit Feedback Neural Recommender Systems\n",
    "\n",
    "Goals:\n",
    "- Understand recommender data\n",
    "- Build different models architectures using Keras\n",
    "- Retrieve Embeddings and visualize them\n",
    "- Add metadata information as input to the model"
   ]
  },
  {
   "cell_type": "code",
   "execution_count": 2,
   "metadata": {
    "collapsed": false,
    "deletable": true,
    "editable": true
   },
   "outputs": [],
   "source": [
    "%matplotlib inline\n",
    "import matplotlib.pyplot as plt\n",
    "import numpy as np\n",
    "import os.path as op\n",
    "\n",
    "from zipfile import ZipFile\n",
    "try:\n",
    "    from urllib.request import urlretrieve\n",
    "except ImportError:  # Python 2 compat\n",
    "    from urllib import urlretrieve\n",
    "\n",
    "\n",
    "ML_100K_URL = \"http://files.grouplens.org/datasets/movielens/ml-100k.zip\"\n",
    "ML_100K_FILENAME = ML_100K_URL.rsplit('/', 1)[1]\n",
    "ML_100K_FOLDER = 'ml-100k'\n",
    "\n",
    "if not op.exists(ML_100K_FILENAME):\n",
    "    print('Downloading %s to %s...' % (ML_100K_URL, ML_100K_FILENAME))\n",
    "    urlretrieve(ML_100K_URL, ML_100K_FILENAME)\n",
    "\n",
    "if not op.exists(ML_100K_FOLDER):\n",
    "    print('Extracting %s to %s...' % (ML_100K_FILENAME, ML_100K_FOLDER))\n",
    "    ZipFile(ML_100K_FILENAME).extractall('.')"
   ]
  },
  {
   "cell_type": "markdown",
   "metadata": {
    "deletable": true,
    "editable": true
   },
   "source": [
    "### Ratings file\n",
    "\n",
    "Each line contains a rated movie: \n",
    "- a user\n",
    "- an item\n",
    "- a rating from 1 to 5 stars"
   ]
  },
  {
   "cell_type": "code",
   "execution_count": 3,
   "metadata": {
    "collapsed": false,
    "deletable": true,
    "editable": true
   },
   "outputs": [
    {
     "name": "stdout",
     "output_type": "stream",
     "text": [
      "(100000, 4)\n"
     ]
    },
    {
     "data": {
      "text/html": [
       "<div>\n",
       "<table border=\"1\" class=\"dataframe\">\n",
       "  <thead>\n",
       "    <tr style=\"text-align: right;\">\n",
       "      <th></th>\n",
       "      <th>user_id</th>\n",
       "      <th>item_id</th>\n",
       "      <th>rating</th>\n",
       "      <th>timestamp</th>\n",
       "    </tr>\n",
       "  </thead>\n",
       "  <tbody>\n",
       "    <tr>\n",
       "      <th>0</th>\n",
       "      <td>196</td>\n",
       "      <td>242</td>\n",
       "      <td>3</td>\n",
       "      <td>881250949</td>\n",
       "    </tr>\n",
       "    <tr>\n",
       "      <th>1</th>\n",
       "      <td>186</td>\n",
       "      <td>302</td>\n",
       "      <td>3</td>\n",
       "      <td>891717742</td>\n",
       "    </tr>\n",
       "    <tr>\n",
       "      <th>2</th>\n",
       "      <td>22</td>\n",
       "      <td>377</td>\n",
       "      <td>1</td>\n",
       "      <td>878887116</td>\n",
       "    </tr>\n",
       "    <tr>\n",
       "      <th>3</th>\n",
       "      <td>244</td>\n",
       "      <td>51</td>\n",
       "      <td>2</td>\n",
       "      <td>880606923</td>\n",
       "    </tr>\n",
       "    <tr>\n",
       "      <th>4</th>\n",
       "      <td>166</td>\n",
       "      <td>346</td>\n",
       "      <td>1</td>\n",
       "      <td>886397596</td>\n",
       "    </tr>\n",
       "  </tbody>\n",
       "</table>\n",
       "</div>"
      ],
      "text/plain": [
       "   user_id  item_id  rating  timestamp\n",
       "0      196      242       3  881250949\n",
       "1      186      302       3  891717742\n",
       "2       22      377       1  878887116\n",
       "3      244       51       2  880606923\n",
       "4      166      346       1  886397596"
      ]
     },
     "execution_count": 3,
     "metadata": {},
     "output_type": "execute_result"
    }
   ],
   "source": [
    "import pandas as pd\n",
    "\n",
    "all_ratings = pd.read_csv(op.join(ML_100K_FOLDER, 'u.data'), sep='\\t',\n",
    "                          names=[\"user_id\", \"item_id\", \"rating\", \"timestamp\"])\n",
    "print(all_ratings.shape)\n",
    "all_ratings.head()\n"
   ]
  },
  {
   "cell_type": "markdown",
   "metadata": {
    "deletable": true,
    "editable": true
   },
   "source": [
    "### Item metadata file\n",
    "\n",
    "The item metadata file contains metadata like the name of the movie or the date it was released"
   ]
  },
  {
   "cell_type": "code",
   "execution_count": 4,
   "metadata": {
    "collapsed": false,
    "deletable": true,
    "editable": true
   },
   "outputs": [
    {
     "data": {
      "text/html": [
       "<div>\n",
       "<table border=\"1\" class=\"dataframe\">\n",
       "  <thead>\n",
       "    <tr style=\"text-align: right;\">\n",
       "      <th></th>\n",
       "      <th>name</th>\n",
       "      <th>date</th>\n",
       "      <th>genre</th>\n",
       "      <th>url</th>\n",
       "      <th>f0</th>\n",
       "      <th>f1</th>\n",
       "      <th>f2</th>\n",
       "      <th>f3</th>\n",
       "      <th>f4</th>\n",
       "      <th>f5</th>\n",
       "      <th>...</th>\n",
       "      <th>f9</th>\n",
       "      <th>f10</th>\n",
       "      <th>f11</th>\n",
       "      <th>f12</th>\n",
       "      <th>f13</th>\n",
       "      <th>f14</th>\n",
       "      <th>f15</th>\n",
       "      <th>f16</th>\n",
       "      <th>f17</th>\n",
       "      <th>f18</th>\n",
       "    </tr>\n",
       "  </thead>\n",
       "  <tbody>\n",
       "    <tr>\n",
       "      <th>1</th>\n",
       "      <td>Toy Story (1995)</td>\n",
       "      <td>01-Jan-1995</td>\n",
       "      <td>01-Jan-1997</td>\n",
       "      <td>http://us.imdb.com/M/title-exact?Toy%20Story%2...</td>\n",
       "      <td>0</td>\n",
       "      <td>0</td>\n",
       "      <td>0</td>\n",
       "      <td>1</td>\n",
       "      <td>1</td>\n",
       "      <td>1</td>\n",
       "      <td>...</td>\n",
       "      <td>0</td>\n",
       "      <td>0</td>\n",
       "      <td>0</td>\n",
       "      <td>0</td>\n",
       "      <td>0</td>\n",
       "      <td>0</td>\n",
       "      <td>0</td>\n",
       "      <td>0</td>\n",
       "      <td>0</td>\n",
       "      <td>0</td>\n",
       "    </tr>\n",
       "    <tr>\n",
       "      <th>2</th>\n",
       "      <td>GoldenEye (1995)</td>\n",
       "      <td>01-Jan-1995</td>\n",
       "      <td>01-Jan-1997</td>\n",
       "      <td>http://us.imdb.com/M/title-exact?GoldenEye%20(...</td>\n",
       "      <td>0</td>\n",
       "      <td>1</td>\n",
       "      <td>1</td>\n",
       "      <td>0</td>\n",
       "      <td>0</td>\n",
       "      <td>0</td>\n",
       "      <td>...</td>\n",
       "      <td>0</td>\n",
       "      <td>0</td>\n",
       "      <td>0</td>\n",
       "      <td>0</td>\n",
       "      <td>0</td>\n",
       "      <td>0</td>\n",
       "      <td>0</td>\n",
       "      <td>1</td>\n",
       "      <td>0</td>\n",
       "      <td>0</td>\n",
       "    </tr>\n",
       "    <tr>\n",
       "      <th>3</th>\n",
       "      <td>Four Rooms (1995)</td>\n",
       "      <td>01-Jan-1995</td>\n",
       "      <td>01-Jan-1997</td>\n",
       "      <td>http://us.imdb.com/M/title-exact?Four%20Rooms%...</td>\n",
       "      <td>0</td>\n",
       "      <td>0</td>\n",
       "      <td>0</td>\n",
       "      <td>0</td>\n",
       "      <td>0</td>\n",
       "      <td>0</td>\n",
       "      <td>...</td>\n",
       "      <td>0</td>\n",
       "      <td>0</td>\n",
       "      <td>0</td>\n",
       "      <td>0</td>\n",
       "      <td>0</td>\n",
       "      <td>0</td>\n",
       "      <td>0</td>\n",
       "      <td>1</td>\n",
       "      <td>0</td>\n",
       "      <td>0</td>\n",
       "    </tr>\n",
       "    <tr>\n",
       "      <th>4</th>\n",
       "      <td>Get Shorty (1995)</td>\n",
       "      <td>01-Jan-1995</td>\n",
       "      <td>01-Jan-1997</td>\n",
       "      <td>http://us.imdb.com/M/title-exact?Get%20Shorty%...</td>\n",
       "      <td>0</td>\n",
       "      <td>1</td>\n",
       "      <td>0</td>\n",
       "      <td>0</td>\n",
       "      <td>0</td>\n",
       "      <td>1</td>\n",
       "      <td>...</td>\n",
       "      <td>0</td>\n",
       "      <td>0</td>\n",
       "      <td>0</td>\n",
       "      <td>0</td>\n",
       "      <td>0</td>\n",
       "      <td>0</td>\n",
       "      <td>0</td>\n",
       "      <td>0</td>\n",
       "      <td>0</td>\n",
       "      <td>0</td>\n",
       "    </tr>\n",
       "    <tr>\n",
       "      <th>5</th>\n",
       "      <td>Copycat (1995)</td>\n",
       "      <td>01-Jan-1995</td>\n",
       "      <td>01-Jan-1997</td>\n",
       "      <td>http://us.imdb.com/M/title-exact?Copycat%20(1995)</td>\n",
       "      <td>0</td>\n",
       "      <td>0</td>\n",
       "      <td>0</td>\n",
       "      <td>0</td>\n",
       "      <td>0</td>\n",
       "      <td>0</td>\n",
       "      <td>...</td>\n",
       "      <td>0</td>\n",
       "      <td>0</td>\n",
       "      <td>0</td>\n",
       "      <td>0</td>\n",
       "      <td>0</td>\n",
       "      <td>0</td>\n",
       "      <td>0</td>\n",
       "      <td>1</td>\n",
       "      <td>0</td>\n",
       "      <td>0</td>\n",
       "    </tr>\n",
       "  </tbody>\n",
       "</table>\n",
       "<p>5 rows × 23 columns</p>\n",
       "</div>"
      ],
      "text/plain": [
       "                name         date        genre  \\\n",
       "1   Toy Story (1995)  01-Jan-1995  01-Jan-1997   \n",
       "2   GoldenEye (1995)  01-Jan-1995  01-Jan-1997   \n",
       "3  Four Rooms (1995)  01-Jan-1995  01-Jan-1997   \n",
       "4  Get Shorty (1995)  01-Jan-1995  01-Jan-1997   \n",
       "5     Copycat (1995)  01-Jan-1995  01-Jan-1997   \n",
       "\n",
       "                                                 url  f0  f1  f2  f3  f4  f5  \\\n",
       "1  http://us.imdb.com/M/title-exact?Toy%20Story%2...   0   0   0   1   1   1   \n",
       "2  http://us.imdb.com/M/title-exact?GoldenEye%20(...   0   1   1   0   0   0   \n",
       "3  http://us.imdb.com/M/title-exact?Four%20Rooms%...   0   0   0   0   0   0   \n",
       "4  http://us.imdb.com/M/title-exact?Get%20Shorty%...   0   1   0   0   0   1   \n",
       "5  http://us.imdb.com/M/title-exact?Copycat%20(1995)   0   0   0   0   0   0   \n",
       "\n",
       "  ...   f9  f10  f11  f12  f13  f14  f15  f16  f17  f18  \n",
       "1 ...    0    0    0    0    0    0    0    0    0    0  \n",
       "2 ...    0    0    0    0    0    0    0    1    0    0  \n",
       "3 ...    0    0    0    0    0    0    0    1    0    0  \n",
       "4 ...    0    0    0    0    0    0    0    0    0    0  \n",
       "5 ...    0    0    0    0    0    0    0    1    0    0  \n",
       "\n",
       "[5 rows x 23 columns]"
      ]
     },
     "execution_count": 4,
     "metadata": {},
     "output_type": "execute_result"
    }
   ],
   "source": [
    "names = [\"name\", \"date\", \"genre\", \"url\"]\n",
    "names += [\"f\" + str(x) for x in range(19)]  # unused feature names\n",
    "\n",
    "items = pd.read_csv(op.join(ML_100K_FOLDER, 'u.item'), sep='|', encoding='latin-1',\n",
    "                    names=names)\n",
    "# fix a missing value\n",
    "items.fillna(value=\"01-Jan-1997\", inplace=True)\n",
    "items.head()"
   ]
  },
  {
   "cell_type": "markdown",
   "metadata": {
    "deletable": true,
    "editable": true
   },
   "source": [
    "### Data preprocessing\n",
    "\n",
    "To understand well the distribution of the data, the following statistics are computed:\n",
    "- the number of users\n",
    "- the number of items\n",
    "- the rating distribution"
   ]
  },
  {
   "cell_type": "code",
   "execution_count": 5,
   "metadata": {
    "collapsed": false,
    "deletable": true,
    "editable": true
   },
   "outputs": [
    {
     "name": "stdout",
     "output_type": "stream",
     "text": [
      "(100000, 4)\n"
     ]
    },
    {
     "data": {
      "text/plain": [
       "count    100000.000000\n",
       "mean          3.529860\n",
       "std           1.125674\n",
       "min           1.000000\n",
       "25%           3.000000\n",
       "50%           4.000000\n",
       "75%           4.000000\n",
       "max           5.000000\n",
       "Name: rating, dtype: float64"
      ]
     },
     "execution_count": 5,
     "metadata": {},
     "output_type": "execute_result"
    }
   ],
   "source": [
    "print(all_ratings.shape)\n",
    "\n",
    "all_ratings['rating'].describe()"
   ]
  },
  {
   "cell_type": "code",
   "execution_count": 6,
   "metadata": {
    "collapsed": false,
    "deletable": true,
    "editable": true
   },
   "outputs": [
    {
     "data": {
      "text/plain": [
       "943"
      ]
     },
     "execution_count": 6,
     "metadata": {},
     "output_type": "execute_result"
    }
   ],
   "source": [
    "max_user_id = all_ratings['user_id'].max()\n",
    "max_user_id"
   ]
  },
  {
   "cell_type": "code",
   "execution_count": 7,
   "metadata": {
    "collapsed": false,
    "deletable": true,
    "editable": true
   },
   "outputs": [
    {
     "data": {
      "text/plain": [
       "1682"
      ]
     },
     "execution_count": 7,
     "metadata": {},
     "output_type": "execute_result"
    }
   ],
   "source": [
    "max_item_id = all_ratings['item_id'].max()\n",
    "max_item_id"
   ]
  },
  {
   "cell_type": "code",
   "execution_count": 8,
   "metadata": {
    "collapsed": false,
    "deletable": true,
    "editable": true
   },
   "outputs": [
    {
     "name": "stdout",
     "output_type": "stream",
     "text": [
      "count    80000.000000\n",
      "mean       425.538538\n",
      "std        331.169279\n",
      "min          1.000000\n",
      "25%        174.000000\n",
      "50%        322.000000\n",
      "75%        631.000000\n",
      "max       1682.000000\n",
      "Name: item_id, dtype: float64\n",
      "count    20000.000000\n",
      "mean       425.496500\n",
      "std        329.318736\n",
      "min          1.000000\n",
      "25%        176.000000\n",
      "50%        321.000000\n",
      "75%        632.000000\n",
      "max       1680.000000\n",
      "Name: item_id, dtype: float64\n"
     ]
    }
   ],
   "source": [
    "from sklearn.model_selection import train_test_split\n",
    "\n",
    "ratings_train, ratings_test = train_test_split(\n",
    "    all_ratings, test_size=0.2, random_state=0)\n",
    "\n",
    "user_id_train = ratings_train['user_id']\n",
    "item_id_train = ratings_train['item_id']\n",
    "rating_train = ratings_train['rating']\n",
    "\n",
    "print(item_id_train.describe())\n",
    "\n",
    "\n",
    "\n",
    "user_id_test = ratings_test['user_id']\n",
    "item_id_test = ratings_test['item_id']\n",
    "rating_test = ratings_test['rating']\n",
    "\n",
    "print(item_id_test.describe())\n"
   ]
  },
  {
   "cell_type": "markdown",
   "metadata": {
    "deletable": true,
    "editable": true
   },
   "source": [
    "# Explicit feedback: supervised ratings prediction\n",
    "\n",
    "For each pair of (user, item) try to predict the rating the user would give to the item.\n",
    "\n",
    "This is the classical setup for building recommender systems from offline data with explicit supervision signal. "
   ]
  },
  {
   "cell_type": "markdown",
   "metadata": {
    "deletable": true,
    "editable": true
   },
   "source": [
    "## Predictive ratings  as a regression problem\n",
    "\n",
    "The following code implements the following architecture:\n",
    "\n",
    "<img src=\"images/rec_archi_1.svg\" style=\"width: 600px;\" />"
   ]
  },
  {
   "cell_type": "code",
   "execution_count": 9,
   "metadata": {
    "collapsed": false,
    "deletable": true,
    "editable": true
   },
   "outputs": [
    {
     "name": "stderr",
     "output_type": "stream",
     "text": [
      "Using TensorFlow backend.\n"
     ]
    }
   ],
   "source": [
    "from keras.layers import Input, Embedding, Flatten, merge, Dense, Dropout, Lambda\n",
    "from keras.models import Model\n",
    "import keras.backend as K\n",
    "from keras_fixes import dot_mode"
   ]
  },
  {
   "cell_type": "code",
   "execution_count": 10,
   "metadata": {
    "collapsed": false
   },
   "outputs": [
    {
     "name": "stdout",
     "output_type": "stream",
     "text": [
      "[[[1 2 3]]]\n",
      "[[[4 5 6]]]\n",
      "[[[ 1.  2.  3.  4.  5.  6.]]]\n",
      "[[[ 32.]]]\n",
      "[[[[ 0.97463191]]]]\n"
     ]
    }
   ],
   "source": [
    "# test the merge in keras\n",
    "from keras.layers import Input, merge\n",
    "from keras.models import Model\n",
    "import numpy as np\n",
    "\n",
    "input_a = np.reshape([1, 2, 3], (1, 1, 3))\n",
    "input_b = np.reshape([4, 5, 6], (1, 1, 3))\n",
    "\n",
    "print(input_a)\n",
    "print(input_b)\n",
    "\n",
    "a = Input(shape=(1, 3))\n",
    "b = Input(shape=(1, 3))\n",
    "\n",
    "\n",
    "concat = merge([a, b], mode='concat', concat_axis=-1)\n",
    "dot = merge([a, b], mode='dot', dot_axes=2)\n",
    "cos = merge([a, b], mode='cos', dot_axes=2)\n",
    "\n",
    "model_concat = Model(input=[a, b], output=concat)\n",
    "model_dot = Model(input=[a, b], output=dot)\n",
    "model_cos = Model(input=[a, b], output=cos)\n",
    "\n",
    "\n",
    "print(model_concat.predict([input_a, input_b]))\n",
    "print(model_dot.predict([input_a, input_b]))\n",
    "print(model_cos.predict([input_a, input_b]))"
   ]
  },
  {
   "cell_type": "code",
   "execution_count": 11,
   "metadata": {
    "collapsed": false,
    "deletable": true,
    "editable": true
   },
   "outputs": [],
   "source": [
    "# For each sample we input the integer identifiers\n",
    "# of a single user and a single item\n",
    "user_id_input = Input(shape=[1], name='user')\n",
    "item_id_input = Input(shape=[1], name='item')\n",
    "\n",
    "\n",
    "embedding_size = 32\n",
    "user_embedding = Embedding(output_dim=embedding_size, input_dim=max_user_id + 1,\n",
    "                           input_length=1, name='user_embedding')(user_id_input)\n",
    "item_embedding = Embedding(output_dim=embedding_size, input_dim=max_item_id + 1,\n",
    "                           input_length=1, name='item_embedding')(item_id_input)\n",
    "\n",
    "\n",
    "\n",
    "# reshape from shape: (batch_size, input_length, embedding_size)\n",
    "# to shape: (batch_size, input_length * embedding_size) which is\n",
    "# equal to shape: (batch_size, embedding_size)\n",
    "user_vecs = Flatten()(user_embedding)\n",
    "item_vecs = Flatten()(item_embedding)\n",
    "\n",
    "\n",
    "y = merge([user_vecs, item_vecs], mode=dot_mode, output_shape=(1,))\n",
    "\n",
    "\n",
    "model = Model(input=[user_id_input, item_id_input], output=y)\n",
    "model.compile(optimizer='adam', loss='mae')"
   ]
  },
  {
   "cell_type": "code",
   "execution_count": 12,
   "metadata": {
    "collapsed": false,
    "deletable": true,
    "editable": true
   },
   "outputs": [
    {
     "name": "stdout",
     "output_type": "stream",
     "text": [
      "[-0.00425739  0.00101695  0.00587618 ..., -0.00157842  0.00947668\n",
      "  0.00450012]\n"
     ]
    }
   ],
   "source": [
    "# Useful for debugging the output shape of model\n",
    "initial_train_preds = model.predict([user_id_train, item_id_train])\n",
    "initial_train_preds.shape\n",
    "\n",
    "print(initial_train_preds)"
   ]
  },
  {
   "cell_type": "markdown",
   "metadata": {
    "deletable": true,
    "editable": true
   },
   "source": [
    "### Model error\n",
    "\n",
    "Using `initial_train_preds`, compute the model errors:\n",
    "- mean absolute error\n",
    "- mean squared error\n",
    "\n",
    "Converting a pandas Series to numpy array is usually implicit, but you may use `rating_train.values` to do so explicitely. Be sure to monitor the shapes of each object you deal with by using `object.shape`."
   ]
  },
  {
   "cell_type": "code",
   "execution_count": null,
   "metadata": {
    "collapsed": true,
    "deletable": true,
    "editable": true
   },
   "outputs": [],
   "source": []
  },
  {
   "cell_type": "code",
   "execution_count": 13,
   "metadata": {
    "collapsed": false,
    "deletable": true,
    "editable": true
   },
   "outputs": [
    {
     "name": "stdout",
     "output_type": "stream",
     "text": [
      "Random init MSE: 13.732\n",
      "Random init MAE: 3.531\n"
     ]
    }
   ],
   "source": [
    "# %load solutions/compute_errors.py\n",
    "squared_differences = np.square(initial_train_preds - rating_train.values)\n",
    "absolute_differences = np.abs(initial_train_preds - rating_train.values)\n",
    "\n",
    "print(\"Random init MSE: %0.3f\" % np.mean(squared_differences))\n",
    "print(\"Random init MAE: %0.3f\" % np.mean(absolute_differences))\n",
    "\n",
    "# You may also use sklearn metrics to do so with less numpy engineering \n",
    "#from sklearn.metrics import mean_squared_error, mean_absolute_error\n",
    "#\n",
    "#print(\"Random init MSE: %0.3f\" % mean_squared_error(initial_train_preds, rating_train))\n",
    "#print(\"Random init MAE: %0.3f\" % mean_absolute_error(initial_train_preds, rating_train))"
   ]
  },
  {
   "cell_type": "markdown",
   "metadata": {
    "deletable": true,
    "editable": true
   },
   "source": [
    "### Monitoring runs\n",
    "\n",
    "Keras enables to monitor various variables during training. \n",
    "\n",
    "`history.history` returned by the `model.fit` function is a dictionary\n",
    "containing the `'loss'` and validation loss `'val_loss'` after each epoch"
   ]
  },
  {
   "cell_type": "code",
   "execution_count": 14,
   "metadata": {
    "collapsed": false,
    "deletable": true,
    "editable": true
   },
   "outputs": [
    {
     "name": "stdout",
     "output_type": "stream",
     "text": [
      "Train on 72000 samples, validate on 8000 samples\n",
      "Epoch 1/6\n",
      "3s - loss: 2.9310 - val_loss: 1.4521\n",
      "Epoch 2/6\n",
      "3s - loss: 1.1063 - val_loss: 0.9898\n",
      "Epoch 3/6\n",
      "3s - loss: 0.9439 - val_loss: 0.9467\n",
      "Epoch 4/6\n",
      "2s - loss: 0.9201 - val_loss: 0.9336\n",
      "Epoch 5/6\n",
      "2s - loss: 0.9123 - val_loss: 0.9291\n",
      "Epoch 6/6\n",
      "2s - loss: 0.9088 - val_loss: 0.9264\n",
      "CPU times: user 24.6 s, sys: 5.59 s, total: 30.2 s\n",
      "Wall time: 19.5 s\n"
     ]
    }
   ],
   "source": [
    "%%time\n",
    "\n",
    "# Training the model\n",
    "history = model.fit([user_id_train, item_id_train], rating_train,\n",
    "                    batch_size=64, nb_epoch=6, validation_split=0.1,\n",
    "                    shuffle=True, verbose=2)"
   ]
  },
  {
   "cell_type": "code",
   "execution_count": 15,
   "metadata": {
    "collapsed": false,
    "deletable": true,
    "editable": true
   },
   "outputs": [
    {
     "data": {
      "image/png": "[encoded data removed]",
      "text/plain": [
       "<matplotlib.figure.Figure at 0x12308d0b8>"
      ]
     },
     "metadata": {},
     "output_type": "display_data"
    }
   ],
   "source": [
    "plt.plot(history.history['loss'], label='train')\n",
    "plt.plot(history.history['val_loss'], label='validation')\n",
    "plt.ylim(0, 2)\n",
    "plt.legend(loc='best')\n",
    "plt.title('Loss');"
   ]
  },
  {
   "cell_type": "markdown",
   "metadata": {
    "deletable": true,
    "editable": true
   },
   "source": [
    "Now that the model is trained, the model MSE and MAE look nicer:"
   ]
  },
  {
   "cell_type": "code",
   "execution_count": 16,
   "metadata": {
    "collapsed": false,
    "deletable": true,
    "editable": true
   },
   "outputs": [
    {
     "name": "stdout",
     "output_type": "stream",
     "text": [
      "Final test MSE: 1.399\n",
      "Final test MAE: 0.898\n"
     ]
    }
   ],
   "source": [
    "from sklearn.metrics import mean_squared_error\n",
    "from sklearn.metrics import mean_absolute_error\n",
    "\n",
    "test_preds = model.predict([user_id_test, item_id_test])\n",
    "print(\"Final test MSE: %0.3f\" % mean_squared_error(test_preds, rating_test))\n",
    "print(\"Final test MAE: %0.3f\" % mean_absolute_error(test_preds, rating_test))"
   ]
  },
  {
   "cell_type": "code",
   "execution_count": 17,
   "metadata": {
    "collapsed": false,
    "deletable": true,
    "editable": true
   },
   "outputs": [
    {
     "name": "stdout",
     "output_type": "stream",
     "text": [
      "Final train MSE: 1.391\n",
      "Final train MAE: 0.898\n"
     ]
    }
   ],
   "source": [
    "train_preds = model.predict([user_id_train, item_id_train])\n",
    "print(\"Final train MSE: %0.3f\" % mean_squared_error(train_preds, rating_train))\n",
    "print(\"Final train MAE: %0.3f\" % mean_absolute_error(train_preds, rating_train))"
   ]
  },
  {
   "cell_type": "markdown",
   "metadata": {
    "deletable": true,
    "editable": true
   },
   "source": [
    "## A Deep recommender model\n",
    "\n",
    "Using a similar framework as previously, the following deep model described in the course was built (with only two fully connected)\n",
    "\n",
    "<img src=\"images/rec_archi_2.svg\" style=\"width: 600px;\" />\n",
    "\n",
    "\n",
    "### Exercise\n",
    "\n",
    "- The following code has **4 errors** that prevent it from working correctly. **Correct them and explain** why they are critical."
   ]
  },
  {
   "cell_type": "code",
   "execution_count": null,
   "metadata": {
    "collapsed": false,
    "deletable": true,
    "editable": true
   },
   "outputs": [],
   "source": []
  },
  {
   "cell_type": "code",
   "execution_count": 18,
   "metadata": {
    "collapsed": false,
    "deletable": true,
    "editable": true
   },
   "outputs": [],
   "source": [
    "# %load solutions/deep_explicit_feedback_recsys.py\n",
    "# For each sample we input the integer identifiers\n",
    "# of a single user and a single item\n",
    "user_id_input = Input(shape=[1], name='user')\n",
    "item_id_input = Input(shape=[1], name='item')\n",
    "\n",
    "embedding_size = 50\n",
    "user_embedding = Embedding(output_dim=embedding_size, input_dim=max_user_id + 1,\n",
    "                           input_length=1, name='user_embedding')(user_id_input)\n",
    "item_embedding = Embedding(output_dim=embedding_size, input_dim=max_item_id + 1,\n",
    "                           input_length=1, name='item_embedding')(item_id_input)\n",
    "\n",
    "# reshape from shape: (batch_size, input_length, embedding_size)\n",
    "# to shape: (batch_size, input_length * embedding_size) which is\n",
    "# equal to shape: (batch_size, embedding_size)\n",
    "user_vecs = Flatten()(user_embedding)\n",
    "item_vecs = Flatten()(item_embedding)\n",
    "\n",
    "input_vecs = merge([user_vecs, item_vecs], mode='concat')\n",
    "\n",
    "input_vecs = Dropout(0.2)(input_vecs)\n",
    "\n",
    "x = Dense(64, activation='relu')(input_vecs)\n",
    "## output dimension for 1-d rating\n",
    "## tanh activation squashes the outputs between -1 and 1\n",
    "## when we want to predict values between 1 and 5\n",
    "y = Dense(1)(x)\n",
    "model = Model(input=[user_id_input, item_id_input], output=y)\n",
    "## A binary crossentropy loss is only useful for binary\n",
    "## classification, while we are in regression (use mse or mae)\n",
    "model.compile(optimizer='adam', loss='mae')\n",
    "\n",
    "initial_train_preds = model.predict([user_id_train, item_id_train])"
   ]
  },
  {
   "cell_type": "code",
   "execution_count": 19,
   "metadata": {
    "collapsed": false,
    "deletable": true,
    "editable": true
   },
   "outputs": [
    {
     "name": "stdout",
     "output_type": "stream",
     "text": [
      "Train on 72000 samples, validate on 8000 samples\n",
      "Epoch 1/5\n",
      "4s - loss: 0.9496 - val_loss: 0.7715\n",
      "Epoch 2/5\n",
      "4s - loss: 0.7486 - val_loss: 0.7603\n",
      "Epoch 3/5\n",
      "3s - loss: 0.7347 - val_loss: 0.7496\n",
      "Epoch 4/5\n",
      "5s - loss: 0.7220 - val_loss: 0.7460\n",
      "Epoch 5/5\n",
      "5s - loss: 0.7118 - val_loss: 0.7397\n",
      "CPU times: user 33.4 s, sys: 9.85 s, total: 43.3 s\n",
      "Wall time: 24 s\n"
     ]
    }
   ],
   "source": [
    "%%time\n",
    "history = model.fit([user_id_train, item_id_train], rating_train,\n",
    "                    batch_size=64, nb_epoch=5, validation_split=0.1,\n",
    "                    shuffle=True, verbose=2)"
   ]
  },
  {
   "cell_type": "code",
   "execution_count": 20,
   "metadata": {
    "collapsed": false,
    "deletable": true,
    "editable": true
   },
   "outputs": [
    {
     "data": {
      "image/png": "[encoded data removed]",
      "text/plain": [
       "<matplotlib.figure.Figure at 0x123d47080>"
      ]
     },
     "metadata": {},
     "output_type": "display_data"
    }
   ],
   "source": [
    "plt.plot(history.history['loss'], label='train')\n",
    "plt.plot(history.history['val_loss'], label='validation')\n",
    "plt.ylim(0, 2)\n",
    "plt.legend(loc='best')\n",
    "plt.title('Loss');"
   ]
  },
  {
   "cell_type": "code",
   "execution_count": 21,
   "metadata": {
    "collapsed": false,
    "deletable": true,
    "editable": true
   },
   "outputs": [
    {
     "name": "stdout",
     "output_type": "stream",
     "text": [
      "Final test MSE: 0.914\n",
      "Final test MAE: 0.727\n"
     ]
    }
   ],
   "source": [
    "test_preds = model.predict([user_id_test, item_id_test])\n",
    "print(\"Final test MSE: %0.3f\" % mean_squared_error(test_preds, rating_test))\n",
    "print(\"Final test MAE: %0.3f\" % mean_absolute_error(test_preds, rating_test))"
   ]
  },
  {
   "cell_type": "code",
   "execution_count": 22,
   "metadata": {
    "collapsed": false,
    "deletable": true,
    "editable": true
   },
   "outputs": [
    {
     "name": "stdout",
     "output_type": "stream",
     "text": [
      "Final train MSE: 0.835\n",
      "Final train MAE: 0.686\n"
     ]
    }
   ],
   "source": [
    "train_preds = model.predict([user_id_train, item_id_train])\n",
    "print(\"Final train MSE: %0.3f\" % mean_squared_error(train_preds, rating_train))\n",
    "print(\"Final train MAE: %0.3f\" % mean_absolute_error(train_preds, rating_train))"
   ]
  },
  {
   "cell_type": "markdown",
   "metadata": {
    "deletable": true,
    "editable": true
   },
   "source": [
    "### Home assignment: \n",
    " - Add another layer, compare train/test error\n",
    " - What do you notice? \n",
    " - Try adding more dropout and modifying layer sizes: should you increase\n",
    "   or decrease the number of parameters"
   ]
  },
  {
   "cell_type": "markdown",
   "metadata": {
    "deletable": true,
    "editable": true
   },
   "source": [
    "### Model Embeddings\n",
    "\n",
    "- It is possible to retrieve the embeddings by simply using the Keras function `model.get_weights` which returns all the model learnable parameters.\n",
    "- The weights are returned the same order as they were build in the model\n",
    "- What is the total number of parameters?"
   ]
  },
  {
   "cell_type": "code",
   "execution_count": 23,
   "metadata": {
    "collapsed": false,
    "deletable": true,
    "editable": true
   },
   "outputs": [
    {
     "data": {
      "text/plain": [
       "[(944, 50), (1683, 50), (100, 64), (64,), (64, 1), (1,)]"
      ]
     },
     "execution_count": 23,
     "metadata": {},
     "output_type": "execute_result"
    }
   ],
   "source": [
    "# weights and shape\n",
    "weights = model.get_weights()\n",
    "[w.shape for w in weights]"
   ]
  },
  {
   "cell_type": "code",
   "execution_count": 24,
   "metadata": {
    "collapsed": false,
    "deletable": true,
    "editable": true
   },
   "outputs": [
    {
     "name": "stdout",
     "output_type": "stream",
     "text": [
      "____________________________________________________________________________________________________\n",
      "Layer (type)                     Output Shape          Param #     Connected to                     \n",
      "====================================================================================================\n",
      "user (InputLayer)                (None, 1)             0                                            \n",
      "____________________________________________________________________________________________________\n",
      "item (InputLayer)                (None, 1)             0                                            \n",
      "____________________________________________________________________________________________________\n",
      "user_embedding (Embedding)       (None, 1, 50)         47200       user[0][0]                       \n",
      "____________________________________________________________________________________________________\n",
      "item_embedding (Embedding)       (None, 1, 50)         84150       item[0][0]                       \n",
      "____________________________________________________________________________________________________\n",
      "flatten_3 (Flatten)              (None, 50)            0           user_embedding[0][0]             \n",
      "____________________________________________________________________________________________________\n",
      "flatten_4 (Flatten)              (None, 50)            0           item_embedding[0][0]             \n",
      "____________________________________________________________________________________________________\n",
      "merge_5 (Merge)                  (None, 100)           0           flatten_3[0][0]                  \n",
      "                                                                   flatten_4[0][0]                  \n",
      "____________________________________________________________________________________________________\n",
      "dropout_1 (Dropout)              (None, 100)           0           merge_5[0][0]                    \n",
      "____________________________________________________________________________________________________\n",
      "dense_1 (Dense)                  (None, 64)            6464        dropout_1[0][0]                  \n",
      "____________________________________________________________________________________________________\n",
      "dense_2 (Dense)                  (None, 1)             65          dense_1[0][0]                    \n",
      "====================================================================================================\n",
      "Total params: 137,879\n",
      "Trainable params: 137,879\n",
      "Non-trainable params: 0\n",
      "____________________________________________________________________________________________________\n"
     ]
    }
   ],
   "source": [
    "# Solution: \n",
    "model.summary()"
   ]
  },
  {
   "cell_type": "code",
   "execution_count": 39,
   "metadata": {
    "collapsed": false,
    "deletable": true,
    "editable": true
   },
   "outputs": [
    {
     "name": "stdout",
     "output_type": "stream",
     "text": [
      "First item name from metadata: Toy Story (1995)\n",
      "Embedding vector for the first item:\n",
      "[-0.09698112  0.08855848  0.0487658  -0.05941751 -0.00156418  0.12242204\n",
      "  0.08545233  0.0240779  -0.05879579 -0.06360796  0.09601892 -0.05764137\n",
      "  0.08753403 -0.06028035  0.08934461 -0.05766458 -0.07108436  0.06516211\n",
      "  0.00763744  0.03659184  0.07006893  0.04200531  0.04824194 -0.05603793\n",
      " -0.05869192  0.04269543 -0.06628406  0.07491404 -0.03653983 -0.03171537\n",
      " -0.05951712  0.12271345 -0.054116    0.09354898 -0.0655614  -0.09088151\n",
      "  0.10239661 -0.08552022 -0.03371907  0.10928621 -0.04839545 -0.0637596\n",
      " -0.00298041  0.07896615  0.10997456 -0.08374112  0.04906891  0.06700497\n",
      "  0.06132839 -0.0625702 ]\n",
      "(1683, 50)\n",
      "shape: (50,)\n"
     ]
    }
   ],
   "source": [
    "user_embeddings = weights[0]\n",
    "item_embeddings = weights[1]\n",
    "print(\"First item name from metadata:\", items[\"name\"][1])\n",
    "print(\"Embedding vector for the first item:\")\n",
    "print(item_embeddings[1])\n",
    "print(item_embeddings.shape)\n",
    "print(\"shape:\", item_embeddings[1].shape)"
   ]
  },
  {
   "cell_type": "markdown",
   "metadata": {
    "deletable": true,
    "editable": true
   },
   "source": [
    "### Finding most similar items\n",
    "Finding k most similar items to a point in embedding space\n",
    "\n",
    "- Write in numpy a function to compute the cosine similarity between two points in embedding space\n",
    "- Write a function which computes the euclidean distance between a point in embedding space and all other points\n",
    "- Write a most similar function, which returns the k item names with lowest euclidean distance\n",
    "- Try with a movie index, such as 181 (Return of the Jedi). What do you observe? Don't expect miracles on such a small training set.\n",
    "\n",
    "Notes:\n",
    "- you may use `np.linalg.norm` to compute the norm of vector, and you may specify the `axis=`\n",
    "- the numpy function `np.argsort(...)` enables to compute the sorted indices of a vector\n",
    "- `items[\"name\"][idxs]` returns the names of the items indexed by array idxs"
   ]
  },
  {
   "cell_type": "code",
   "execution_count": null,
   "metadata": {
    "collapsed": false,
    "deletable": true,
    "editable": true
   },
   "outputs": [],
   "source": []
  },
  {
   "cell_type": "code",
   "execution_count": 43,
   "metadata": {
    "collapsed": false,
    "deletable": true,
    "editable": true
   },
   "outputs": [
    {
     "name": "stdout",
     "output_type": "stream",
     "text": [
      "cosine of item 1 and item 1: 0.999999598683\n",
      "(1683,)\n",
      "[ 0.          0.65733051  0.5936721   0.42598271]\n",
      "\n",
      "Items closest to 'Return of the Jedi':\n",
      "Return of the Jedi (1983) 0.0\n",
      "Big Bang Theory, The (1994) 0.29365\n",
      "My Favorite Season (1993) 0.317144\n",
      "Jupiter's Wife (1994) 0.317868\n",
      "Good Man in Africa, A (1994) 0.323152\n",
      "Aiqing wansui (1994) 0.323461\n",
      "Die xue shuang xiong (Killer, The) (1989) 0.324384\n",
      "In the Bleak Midwinter (1995) 0.330057\n",
      "Tough and Deadly (1995) 0.331749\n",
      "Apartment, The (1960) 0.336103\n"
     ]
    },
    {
     "data": {
      "text/plain": [
       "(array([   1.,    4.,  432.,  470.,  337.,  202.,  105.,   93.,   33.,    6.]),\n",
       " array([ 0.        ,  0.14695287,  0.29390574,  0.4408586 ,  0.58781147,\n",
       "         0.73476434,  0.88171721,  1.02867007,  1.17562294,  1.32257581,\n",
       "         1.46952868]),\n",
       " <a list of 10 Patch objects>)"
      ]
     },
     "execution_count": 43,
     "metadata": {},
     "output_type": "execute_result"
    },
    {
     "data": {
      "image/png": "[encoded data removed]",
      "text/plain": [
       "<matplotlib.figure.Figure at 0x1231a2fd0>"
      ]
     },
     "metadata": {},
     "output_type": "display_data"
    }
   ],
   "source": [
    "# %load solutions/similarity.py\n",
    "EPSILON = 1e-07\n",
    "\n",
    "def cosine(x, y):\n",
    "    dot_pdt = np.dot(x, y.T)\n",
    "    norms = np.linalg.norm(x) * np.linalg.norm(y)\n",
    "    return dot_pdt / (norms + EPSILON)\n",
    "\n",
    "# Computes cosine similarities between x and all item embeddings\n",
    "def cosine_similarities(x):\n",
    "    dot_pdts = np.dot(item_embeddings, x)\n",
    "    norms = np.linalg.norm(x) * np.linalg.norm(item_embeddings, axis=1)\n",
    "    return dot_pdts / (norms + EPSILON)\n",
    "\n",
    "# Computes euclidean distances between x and all item embeddings\n",
    "def euclidean_distances(x):\n",
    "    return np.linalg.norm(item_embeddings - x, axis=1)\n",
    "\n",
    "# Computes top_n most similar items to an idx, \n",
    "def most_similar(idx, top_n=10, mode='euclidean'):\n",
    "    sorted_indexes=0\n",
    "    if mode=='euclidean':\n",
    "        dists = euclidean_distances(item_embeddings[idx])\n",
    "        sorted_indexes = np.argsort(dists)\n",
    "        idxs = sorted_indexes[0:top_n]\n",
    "        return list(zip(items[\"name\"][idxs], dists[idxs]))\n",
    "    else:\n",
    "        sims = cosine_similarities(item_embeddings[idx])\n",
    "        # [::-1] makes it possible to reverse the order of a numpy\n",
    "        # array, this is required because most similar items have\n",
    "        # a larger cosine similarity value\n",
    "        sorted_indexes = np.argsort(sims)[::-1]\n",
    "        idxs = sorted_indexes[0:top_n]\n",
    "        return list(zip(items[\"name\"][idxs], sims[idxs]))\n",
    "\n",
    "# sanity checks:\n",
    "print(\"cosine of item 1 and item 1: \"\n",
    "      + str(cosine(item_embeddings[1], item_embeddings[1])))\n",
    "euc_dists = euclidean_distances(item_embeddings[1])\n",
    "print(euc_dists.shape)\n",
    "print(euc_dists[1:5])\n",
    "\n",
    "# Test on movie 181: Return of the Jedi\n",
    "print(\"Items closest to 'Return of the Jedi':\")\n",
    "for title, dist in most_similar(181, mode=\"euclidean\"):\n",
    "    print(title, dist)\n",
    "\n",
    "\n",
    "# We observe that the embedding is poor at representing similarities\n",
    "# between movies, as most distance/similarities are very small/big \n",
    "# One may notice a few clusters though\n",
    "# it's interesting to plot the following distributions\n",
    "plt.hist(euc_dists)\n",
    "\n",
    "# The reason for that is that the number of ratings is low and the embedding\n",
    "# does not automatically capture semantic relationships in that context. \n",
    "# Better representations arise with higher number of ratings, and less overfitting models"
   ]
  },
  {
   "cell_type": "markdown",
   "metadata": {
    "deletable": true,
    "editable": true
   },
   "source": [
    "### Visualizing embeddings using TSNE\n",
    "\n",
    "- we use scikit learn to visualize items embeddings\n",
    "- Try different perplexities, and visualize user embeddings as well\n",
    "- What can you conclude ?"
   ]
  },
  {
   "cell_type": "code",
   "execution_count": 27,
   "metadata": {
    "collapsed": false,
    "deletable": true,
    "editable": true
   },
   "outputs": [],
   "source": [
    "from sklearn.manifold import TSNE\n",
    "\n",
    "item_tsne = TSNE(perplexity=30,method='exact').fit_transform(item_embeddings)"
   ]
  },
  {
   "cell_type": "code",
   "execution_count": 28,
   "metadata": {
    "collapsed": false,
    "deletable": true,
    "editable": true
   },
   "outputs": [
    {
     "data": {
      "image/png": "[encoded data removed]",
      "text/plain": [
       "<matplotlib.figure.Figure at 0x123e55ac8>"
      ]
     },
     "metadata": {},
     "output_type": "display_data"
    }
   ],
   "source": [
    "import matplotlib.pyplot as plt\n",
    "\n",
    "plt.figure(figsize=(10, 10))\n",
    "plt.scatter(item_tsne[:, 0], item_tsne[:, 1]);\n",
    "plt.xticks(()); plt.yticks(());\n",
    "plt.show()"
   ]
  },
  {
   "cell_type": "markdown",
   "metadata": {
    "deletable": true,
    "editable": true
   },
   "source": [
    "## Using item metadata in the model\n",
    "\n",
    "Using a similar framework as previously, we will build another deep model that can also leverage additional metadata. The resulting system is therefore an **Hybrid Recommender System** that does both **Collaborative Filtering** and **Content-based recommendations**.\n",
    "\n",
    "<img src=\"images/rec_archi_3.svg\" style=\"width: 600px;\" />\n"
   ]
  },
  {
   "cell_type": "code",
   "execution_count": 53,
   "metadata": {
    "collapsed": false,
    "deletable": true,
    "editable": true
   },
   "outputs": [
    {
     "data": {
      "text/plain": [
       "(80000, 20000)"
      ]
     },
     "execution_count": 53,
     "metadata": {},
     "output_type": "execute_result"
    }
   ],
   "source": [
    "# transform the date (string) into an int representing the release year\n",
    "parsed_dates = [int(film_date[-4:])\n",
    "                for film_date in items[\"date\"].tolist()]\n",
    "\n",
    "items['parsed_date'] = pd.Series(parsed_dates, index=items.index)\n",
    "max_date = max(items['parsed_date'])\n",
    "min_date = min(items['parsed_date'])\n",
    "\n",
    "from sklearn.preprocessing import scale\n",
    "\n",
    "items['scaled_date'] = scale(items['parsed_date'].astype('float64'))\n",
    "item_meta_train = items[\"scaled_date\"][item_id_train]\n",
    "item_meta_test = items[\"scaled_date\"][item_id_test]\n",
    "\n",
    "len(item_meta_train), len(item_meta_test)"
   ]
  },
  {
   "cell_type": "code",
   "execution_count": 54,
   "metadata": {
    "collapsed": false,
    "deletable": true,
    "editable": true
   },
   "outputs": [
    {
     "data": {
      "text/plain": [
       "count    1.682000e+03\n",
       "mean    -2.415758e-15\n",
       "std      1.000297e+00\n",
       "min     -4.730390e+00\n",
       "25%      2.533563e-01\n",
       "50%      3.937435e-01\n",
       "75%      4.639372e-01\n",
       "max      6.043244e-01\n",
       "Name: scaled_date, dtype: float64"
      ]
     },
     "execution_count": 54,
     "metadata": {},
     "output_type": "execute_result"
    }
   ],
   "source": [
    "items[\"scaled_date\"].describe()"
   ]
  },
  {
   "cell_type": "code",
   "execution_count": 110,
   "metadata": {
    "collapsed": false,
    "deletable": true,
    "editable": true
   },
   "outputs": [],
   "source": [
    "# For each sample we input the integer identifiers\n",
    "# of a single user and a single item\n",
    "user_id_input = Input(shape=[1], name='user')\n",
    "item_id_input = Input(shape=[1], name='item')\n",
    "meta_input = Input(shape=[1], name='meta_item')\n",
    "\n",
    "embedding_size = 50\n",
    "user_embedding = Embedding(output_dim=embedding_size, input_dim=max_user_id + 1,\n",
    "                           input_length=1, name='user_embedding')(user_id_input)\n",
    "item_embedding = Embedding(output_dim=embedding_size, input_dim=max_item_id + 1,\n",
    "                           input_length=1, name='item_embedding')(item_id_input)\n",
    "\n",
    "\n",
    "# reshape from shape: (batch_size, input_length, embedding_size)\n",
    "# to shape: (batch_size, input_length * embedding_size) which is\n",
    "# equal to shape: (batch_size, embedding_size)\n",
    "user_vecs = Flatten()(user_embedding)\n",
    "item_vecs = Flatten()(item_embedding)\n",
    "\n",
    "input_vecs = merge([user_vecs, item_vecs, meta_input], mode='concat')\n",
    "\n",
    "x = Dense(64, activation='relu')(input_vecs)\n",
    "x = Dropout(0.5)(x)\n",
    "x = Dense(32, activation='relu')(x)\n",
    "y = Dense(1)(x)\n",
    "\n",
    "model = Model(input=[user_id_input, item_id_input, meta_input], output=y)\n",
    "model.compile(optimizer='adam', loss='mae')\n",
    "\n",
    "initial_train_preds = model.predict([user_id_train, item_id_train, item_meta_train])"
   ]
  },
  {
   "cell_type": "code",
   "execution_count": 111,
   "metadata": {
    "collapsed": false,
    "deletable": true,
    "editable": true
   },
   "outputs": [
    {
     "name": "stdout",
     "output_type": "stream",
     "text": [
      "Train on 72000 samples, validate on 8000 samples\n",
      "Epoch 1/15\n",
      "5s - loss: 0.9475 - val_loss: 0.7691\n",
      "Epoch 2/15\n",
      "5s - loss: 0.7587 - val_loss: 0.7587\n",
      "Epoch 3/15\n",
      "4s - loss: 0.7363 - val_loss: 0.7465\n",
      "Epoch 4/15\n",
      "4s - loss: 0.7168 - val_loss: 0.7383\n",
      "Epoch 5/15\n",
      "4s - loss: 0.7025 - val_loss: 0.7347\n",
      "Epoch 6/15\n",
      "5s - loss: 0.6885 - val_loss: 0.7349\n",
      "Epoch 7/15\n",
      "7s - loss: 0.6772 - val_loss: 0.7380\n",
      "Epoch 8/15\n",
      "6s - loss: 0.6691 - val_loss: 0.7381\n",
      "Epoch 9/15\n",
      "4s - loss: 0.6621 - val_loss: 0.7315\n",
      "Epoch 10/15\n",
      "4s - loss: 0.6560 - val_loss: 0.7317\n",
      "Epoch 11/15\n",
      "5s - loss: 0.6519 - val_loss: 0.7316\n",
      "Epoch 12/15\n",
      "5s - loss: 0.6458 - val_loss: 0.7324\n",
      "Epoch 13/15\n",
      "5s - loss: 0.6404 - val_loss: 0.7299\n",
      "Epoch 14/15\n",
      "5s - loss: 0.6374 - val_loss: 0.7306\n",
      "Epoch 15/15\n",
      "5s - loss: 0.6315 - val_loss: 0.7400\n",
      "CPU times: user 1min 50s, sys: 35.8 s, total: 2min 26s\n",
      "Wall time: 1min 20s\n"
     ]
    }
   ],
   "source": [
    "%%time\n",
    "history = model.fit([user_id_train, item_id_train, item_meta_train], rating_train,\n",
    "                    batch_size=64, nb_epoch=15, validation_split=0.1,\n",
    "                    shuffle=True, verbose=2)"
   ]
  },
  {
   "cell_type": "code",
   "execution_count": 112,
   "metadata": {
    "collapsed": false,
    "deletable": true,
    "editable": true
   },
   "outputs": [
    {
     "name": "stdout",
     "output_type": "stream",
     "text": [
      "Final test Loss: 0.973\n",
      "Final test Loss: 0.723\n"
     ]
    }
   ],
   "source": [
    "test_preds = model.predict([user_id_test, item_id_test, item_meta_test])\n",
    "print(\"Final test Loss: %0.3f\" % mean_squared_error(test_preds, rating_test))\n",
    "print(\"Final test Loss: %0.3f\" % mean_absolute_error(test_preds, rating_test))"
   ]
  },
  {
   "cell_type": "markdown",
   "metadata": {
    "deletable": true,
    "editable": true
   },
   "source": [
    "### A recommendation function for a given user\n",
    "\n",
    "Once the model is trained, the system can be used to recommend a few items for a user, that he/she hasn't already seen:\n",
    "- we use the `model.predict` to compute the ratings a user would have given to all items\n",
    "- we build a reco function that sorts these items and exclude those the user has already seen"
   ]
  },
  {
   "cell_type": "code",
   "execution_count": 113,
   "metadata": {
    "collapsed": false,
    "deletable": true,
    "editable": true,
    "scrolled": true
   },
   "outputs": [],
   "source": [
    "def recommend(user_id, top_n=10):\n",
    "    item_ids = range(1, max_item_id)\n",
    "    seen_movies = list(all_ratings[all_ratings[\"user_id\"]==user_id][\"item_id\"])\n",
    "    item_ids = list(filter(lambda x: x not in seen_movies, item_ids))\n",
    "    \n",
    "    print(\"user \"+str(user_id) +\" has seen \"+str(len(seen_movies)) + \" movies. \"+\n",
    "          \"Computing ratings for \"+str(len(item_ids))+ \" other movies\")\n",
    "    \n",
    "    item_ids = np.array(item_ids)\n",
    "    user = np.zeros_like(item_ids)\n",
    "    user[:]=user_id\n",
    "    items_meta = items[\"scaled_date\"][item_ids].values\n",
    "\n",
    "    rating_preds = model.predict([user, item_ids, items_meta])\n",
    "\n",
    "    item_ids = np.argsort(rating_preds[:,0])[::-1].tolist()\n",
    "    rec_items = item_ids[:top_n]\n",
    "    return [(items[\"name\"][movie], rating_preds[movie][0]) for movie in rec_items]"
   ]
  },
  {
   "cell_type": "code",
   "execution_count": 114,
   "metadata": {
    "collapsed": false,
    "deletable": true,
    "editable": true
   },
   "outputs": [
    {
     "name": "stdout",
     "output_type": "stream",
     "text": [
      "user 3 has seen 54 movies. Computing ratings for 1627 other movies\n"
     ]
    },
    {
     "data": {
      "text/plain": [
       "[('A Chef in Love (1996)', 5.0031729),\n",
       " ('Hurricane Streets (1998)', 4.7923875),\n",
       " (\"Pharaoh's Army (1995)\", 4.7363672),\n",
       " ('Ladybird Ladybird (1994)', 4.4955535),\n",
       " ('Swept from the Sea (1997)', 4.2269187),\n",
       " ('Spitfire Grill, The (1996)', 4.187326),\n",
       " ('NeverEnding Story III, The (1994)', 4.1698661),\n",
       " ('Nixon (1995)', 4.1500397),\n",
       " ('Mary Poppins (1964)', 4.1487379),\n",
       " ('Palmetto (1998)', 4.1305041)]"
      ]
     },
     "execution_count": 114,
     "metadata": {},
     "output_type": "execute_result"
    }
   ],
   "source": [
    "recommend(3)"
   ]
  },
  {
   "cell_type": "markdown",
   "metadata": {
    "deletable": true,
    "editable": true
   },
   "source": [
    "### Home assignment: Predicting ratings as a classification problem\n",
    "\n",
    "In this dataset, the ratings all belong to a finite set of possible values:"
   ]
  },
  {
   "cell_type": "code",
   "execution_count": 115,
   "metadata": {
    "collapsed": false,
    "deletable": true,
    "editable": true
   },
   "outputs": [
    {
     "data": {
      "text/plain": [
       "array([1, 2, 3, 4, 5])"
      ]
     },
     "execution_count": 115,
     "metadata": {},
     "output_type": "execute_result"
    }
   ],
   "source": [
    "import numpy as np\n",
    "\n",
    "np.unique(rating_train)"
   ]
  },
  {
   "cell_type": "markdown",
   "metadata": {
    "deletable": true,
    "editable": true
   },
   "source": [
    "Maybe we can help the model by forcing it to predict those values by treating the problem as a multiclassification problem. The only required changes are:\n",
    "\n",
    "- setting the final layer to output class membership probabities using a softmax activation with 5 outputs;\n",
    "- optimize the categorical cross-entropy classification loss instead of a regression loss such as MSE or MAE."
   ]
  },
  {
   "cell_type": "code",
   "execution_count": null,
   "metadata": {
    "collapsed": true,
    "deletable": true,
    "editable": true
   },
   "outputs": [],
   "source": []
  },
  {
   "cell_type": "code",
   "execution_count": 116,
   "metadata": {
    "collapsed": false,
    "deletable": true,
    "editable": true
   },
   "outputs": [
    {
     "name": "stdout",
     "output_type": "stream",
     "text": [
      "Random init MSE: 4.012\n",
      "Random init MAE: 1.706\n",
      "Train on 72000 samples, validate on 8000 samples\n",
      "Epoch 1/6\n",
      "7s - loss: 1.3425 - val_loss: 1.2857\n",
      "Epoch 2/6\n",
      "6s - loss: 1.2584 - val_loss: 1.2631\n",
      "Epoch 3/6\n",
      "5s - loss: 1.2348 - val_loss: 1.2545\n",
      "Epoch 4/6\n",
      "5s - loss: 1.2191 - val_loss: 1.2574\n",
      "Epoch 5/6\n",
      "5s - loss: 1.2086 - val_loss: 1.2557\n",
      "Epoch 6/6\n",
      "5s - loss: 1.1997 - val_loss: 1.2546\n",
      "Final test MSE: 1.198\n",
      "Final test MAE: 0.736\n"
     ]
    },
    {
     "data": {
      "image/png": "[encoded data removed]",
      "text/plain": [
       "<matplotlib.figure.Figure at 0x129fd37b8>"
      ]
     },
     "metadata": {},
     "output_type": "display_data"
    }
   ],
   "source": [
    "# %load solutions/classification.py\n",
    "# For each sample we input the integer identifiers\n",
    "# of a single user and a single item\n",
    "user_id_input = Input(shape=[1], name='user')\n",
    "item_id_input = Input(shape=[1], name='item')\n",
    "\n",
    "embedding_size = 50\n",
    "dense_size = 128\n",
    "dropout_embedding = 0.5\n",
    "dropout_hidden = 0.2\n",
    "\n",
    "user_embedding = Embedding(output_dim=embedding_size, input_dim=max_user_id + 1,\n",
    "                           input_length=1, name='user_embedding')(user_id_input)\n",
    "item_embedding = Embedding(output_dim=embedding_size, input_dim=max_item_id + 1,\n",
    "                           input_length=1, name='item_embedding')(item_id_input)\n",
    "\n",
    "# reshape from shape: (batch_size, input_length, embedding_size)\n",
    "# to shape: (batch_size, input_length * embedding_size) which is\n",
    "# equal to shape: (batch_size, embedding_size)\n",
    "user_vecs = Flatten()(user_embedding)\n",
    "item_vecs = Flatten()(item_embedding)\n",
    "\n",
    "input_vecs = merge([user_vecs, item_vecs], mode='concat')\n",
    "input_vecs = Dropout(dropout_embedding)(input_vecs)\n",
    "\n",
    "x = Dense(dense_size, activation='relu')(input_vecs)\n",
    "x = Dropout(dropout_hidden)(x)\n",
    "x = Dense(dense_size, activation='relu')(x)\n",
    "y = Dense(output_dim=5, activation='softmax')(x)\n",
    "\n",
    "model = Model(input=[user_id_input, item_id_input], output=y)\n",
    "model.compile(optimizer='adam', loss='sparse_categorical_crossentropy')\n",
    "\n",
    "initial_train_preds = model.predict([user_id_train, item_id_train]).argmax(axis=1) + 1\n",
    "print(\"Random init MSE: %0.3f\" % mean_squared_error(initial_train_preds, rating_train))\n",
    "print(\"Random init MAE: %0.3f\" % mean_absolute_error(initial_train_preds, rating_train))\n",
    "\n",
    "\n",
    "history = model.fit([user_id_train, item_id_train], rating_train - 1,\n",
    "                    batch_size=64, nb_epoch=6, validation_split=0.1,\n",
    "                    shuffle=True, verbose=2)\n",
    "\n",
    "plt.plot(history.history['loss'], label='train')\n",
    "plt.plot(history.history['val_loss'], label='validation')\n",
    "plt.ylim(0, 2)\n",
    "plt.legend(loc='best')\n",
    "plt.title('loss');\n",
    "\n",
    "test_preds = model.predict([user_id_test, item_id_test]).argmax(axis=1) + 1\n",
    "print(\"Final test MSE: %0.3f\" % mean_squared_error(test_preds, rating_test))\n",
    "print(\"Final test MAE: %0.3f\" % mean_absolute_error(test_preds, rating_test))"
   ]
  },
  {
   "cell_type": "code",
   "execution_count": 117,
   "metadata": {
    "collapsed": false,
    "deletable": true,
    "editable": true
   },
   "outputs": [],
   "source": [
    "def recommend_classify(user_id, top_n=10):\n",
    "    item_ids = range(1, max_item_id)\n",
    "    seen_movies = list(all_ratings[all_ratings[\"user_id\"]==user_id][\"item_id\"])\n",
    "    item_ids = list(filter(lambda x: x not in seen_movies, item_ids))\n",
    "    \n",
    "    print(\"user \"+str(user_id) +\" has seen \"+str(len(seen_movies)) + \" movies. \"+\n",
    "          \"Computing ratings for \"+str(len(item_ids))+ \" other movies\")\n",
    "    \n",
    "    item_ids = np.array(item_ids)\n",
    "    user = np.zeros_like(item_ids)\n",
    "    user[:]=user_id\n",
    "    items_meta = items[\"scaled_date\"][item_ids].values\n",
    "    \n",
    "    rating_preds = model.predict([user, item_ids]).argmax(axis=1) + 1\n",
    "    print(rating_preds)\n",
    "    item_ids = np.argsort(rating_preds[:])[::-1].tolist()\n",
    "    print(item_ids)\n",
    "    rec_items = item_ids[:top_n]\n",
    "    return [(items[\"name\"][movie], rating_preds[movie]) for movie in rec_items]"
   ]
  },
  {
   "cell_type": "code",
   "execution_count": 118,
   "metadata": {
    "collapsed": false
   },
   "outputs": [
    {
     "name": "stdout",
     "output_type": "stream",
     "text": [
      "user 3 has seen 54 movies. Computing ratings for 1627 other movies\n",
      "[4 2 1 ..., 3 1 3]\n",
      "[126, 49, 353, 113, 1120, 118, 172, 63, 1148, 55, 1503, 1185, 1207, 133, 297, 457, 248, 428, 11, 168, 1394, 1445, 597, 598, 599, 596, 606, 601, 602, 604, 579, 608, 639, 642, 650, 663, 690, 698, 756, 586, 813, 560, 473, 452, 455, 456, 458, 459, 460, 464, 470, 482, 558, 488, 503, 527, 762, 548, 551, 552, 556, 759, 866, 780, 1071, 1082, 1087, 1088, 1092, 1103, 1112, 1114, 1121, 1132, 1134, 1138, 1180, 1251, 1292, 1312, 1313, 1341, 1343, 1363, 1074, 1049, 796, 1018, 798, 801, 841, 858, 864, 441, 867, 868, 890, 903, 908, 950, 964, 966, 967, 984, 1007, 1009, 1015, 443, 423, 438, 167, 131, 132, 134, 135, 136, 142, 155, 164, 165, 169, 183, 170, 171, 173, 174, 175, 177, 178, 179, 180, 123, 112, 99, 97, 7, 8, 10, 13, 18, 22, 41, 44, 47, 54, 56, 58, 59, 78, 82, 85, 88, 92, 95, 181, 185, 433, 374, 276, 277, 287, 295, 299, 300, 302, 372, 373, 375, 187, 377, 409, 414, 419, 420, 1412, 424, 425, 429, 267, 266, 257, 243, 188, 189, 190, 192, 193, 194, 195, 196, 197, 198, 201, 203, 207, 209, 210, 211, 219, 221, 240, 1395, 0, 1584, 1557, 1609, 1581, 1530, 1587, 1574, 1469, 1601, 1436, 1480, 1470, 1481, 1457, 1590, 1596, 600, 1492, 578, 581, 595, 594, 587, 589, 593, 592, 591, 590, 603, 583, 584, 1488, 711, 605, 638, 657, 655, 654, 653, 652, 1482, 648, 646, 644, 1483, 637, 1486, 636, 631, 629, 621, 620, 618, 616, 609, 607, 575, 577, 570, 574, 573, 481, 479, 477, 476, 475, 474, 472, 471, 469, 468, 467, 466, 465, 463, 462, 461, 454, 453, 451, 450, 449, 492, 494, 511, 553, 571, 567, 564, 563, 562, 561, 559, 557, 554, 1499, 529, 550, 549, 547, 546, 541, 536, 534, 533, 532, 660, 680, 666, 881, 911, 1463, 904, 901, 900, 898, 897, 894, 888, 873, 914, 872, 869, 1466, 1468, 860, 854, 847, 845, 840, 913, 915, 669, 1461, 1020, 1016, 1008, 998, 995, 990, 972, 969, 965, 963, 916, 962, 957, 956, 955, 953, 952, 930, 924, 917, 834, 832, 828, 695, 732, 730, 727, 726, 718, 715, 707, 699, 696, 692, 827, 691, 689, 687, 681, 446, 678, 677, 675, 670, 737, 738, 739, 741, 819, 812, 810, 808, 806, 802, 800, 1474, 793, 792, 790, 788, 782, 781, 758, 754, 751, 746, 744, 448, 440, 445, 1588, 159, 158, 156, 153, 152, 151, 150, 149, 143, 140, 162, 1591, 1592, 1594, 130, 128, 127, 124, 115, 110, 161, 163, 107, 1568, 206, 205, 204, 1556, 202, 200, 199, 1559, 191, 186, 1586, 184, 182, 1572, 1573, 1575, 176, 1578, 1580, 1585, 108, 106, 1552, 23, 46, 45, 43, 38, 31, 30, 29, 27, 25, 21, 50, 15, 14, 12, 1622, 9, 1624, 6, 5, 3, 1615, 51, 100, 1607, 98, 96, 1602, 1603, 91, 90, 86, 81, 80, 75, 1613, 72, 70, 69, 68, 67, 61, 60, 57, 1612, 208, 212, 444, 1533, 400, 393, 392, 388, 381, 380, 379, 378, 376, 1534, 407, 370, 368, 365, 364, 363, 359, 1535, 349, 339, 406, 408, 334, 431, 442, 1518, 1025, 439, 437, 436, 435, 434, 432, 430, 1529, 1521, 427, 426, 418, 416, 415, 412, 411, 410, 337, 327, 213, 234, 254, 253, 1547, 247, 245, 242, 237, 236, 235, 232, 261, 230, 228, 226, 225, 224, 222, 220, 216, 214, 259, 262, 326, 291, 325, 323, 317, 312, 304, 1537, 1538, 1539, 294, 286, 264, 284, 283, 282, 281, 1542, 274, 273, 1545, 265, 1022, 1626, 1283, 1197, 1106, 1342, 1060, 1104, 1061, 1333, 1332, 1348, 1063, 1064, 1326, 1100, 1324, 1320, 1056, 1054, 1178, 1375, 1046, 1181, 1182, 1048, 1377, 1376, 1373, 1052, 1188, 1369, 1190, 1193, 1351, 1196, 1065, 1202, 1209, 1078, 1076, 1289, 1241, 1243, 1246, 1139, 1094, 1314, 1278, 1257, 1093, 1261, 1271, 1089, 1075, 1238, 1231, 1230, 1451, 1224, 1223, 1298, 1306, 1214, 1212, 1070, 1309, 1069, 1431, 1430, 1066, 1045, 1349, 1402, 1390, 1393, 1166, 1396, 1163, 1161, 1399, 1156, 1401, 1403, 1404, 1405, 1149, 1437, 1407, 1147, 1146, 1145, 1411, 1131, 1440, 1143, 1135, 1136, 1415, 1031, 1142, 1418, 1420, 1137, 1168, 1086, 1119, 1383, 1115, 1116, 1043, 1171, 1384, 1498, 555, 630, 413, 624, 1240, 572, 1183, 1244, 517, 622, 422, 405, 1435, 1519, 1226, 1186, 1501, 619, 1222, 447, 1218, 1216, 1510, 635, 569, 404, 366, 348, 350, 351, 354, 356, 358, 360, 1140, 1141, 361, 362, 367, 396, 1260, 1258, 1255, 383, 386, 1433, 566, 389, 390, 391, 545, 1189, 612, 515, 504, 1164, 531, 1165, 526, 495, 497, 498, 499, 501, 525, 502, 582, 506, 611, 1167, 507, 580, 1495, 510, 523, 347, 1169, 521, 512, 513, 1027, 588, 1194, 576, 1198, 610, 1211, 542, 1485, 1210, 1151, 1170, 1153, 1208, 1206, 1507, 540, 478, 565, 539, 480, 483, 1489, 538, 1157, 537, 486, 1505, 489, 491, 1176, 1028, 344, 1391, 1598, 1372, 105, 101, 1378, 94, 93, 1380, 89, 87, 84, 83, 1385, 79, 1386, 76, 1388, 114, 116, 117, 138, 1356, 147, 146, 145, 1359, 141, 139, 1361, 120, 1362, 1427, 1366, 1367, 125, 1368, 122, 71, 1392, 338, 65, 1409, 26, 1410, 24, 1618, 1424, 20, 1619, 17, 16, 1413, 1414, 1620, 1417, 4, 1421, 1, 1406, 32, 33, 1398, 64, 1608, 62, 1426, 1610, 1611, 1397, 53, 36, 1400, 1614, 48, 1616, 42, 1617, 37, 1354, 154, 1352, 157, 292, 290, 289, 1541, 285, 1284, 1285, 1287, 280, 278, 275, 1290, 272, 271, 270, 269, 268, 293, 1540, 296, 1273, 1269, 336, 333, 332, 331, 330, 329, 321, 1280, 318, 316, 311, 310, 308, 305, 301, 1544, 1291, 263, 1576, 1561, 1564, 1330, 1569, 1570, 1336, 1338, 1577, 1558, 1579, 1582, 1583, 166, 1345, 1346, 160, 1560, 1325, 1295, 227, 252, 249, 246, 1549, 239, 231, 229, 1550, 1323, 1551, 218, 215, 1317, 1318, 1553, 1321, 641, 514, 643, 1079, 1081, 824, 822, 821, 1450, 818, 817, 816, 815, 814, 1083, 811, 1084, 809, 804, 1080, 833, 880, 1471, 875, 870, 1068, 1467, 1452, 863, 862, 861, 1072, 857, 856, 855, 850, 848, 844, 1449, 1448, 1473, 795, 1476, 760, 1477, 757, 1478, 755, 1097, 753, 752, 1098, 750, 748, 747, 743, 742, 763, 764, 766, 785, 794, 1090, 791, 789, 787, 786, 1095, 767, 1475, 778, 777, 776, 774, 768, 879, 882, 1102, 1036, 992, 991, 989, 988, 987, 986, 985, 1458, 981, 980, 978, 973, 968, 1459, 1040, 993, 996, 883, 1000, 1029, 1023, 1021, 1019, 1017, 1455, 1014, 1013, 1012, 1011, 1456, 1006, 1005, 1003, 1001, 1041, 961, 960, 959, 910, 907, 906, 1058, 1464, 1059, 899, 1062, 895, 892, 891, 887, 886, 885, 884, 912, 1051, 918, 944, 1044, 954, 951, 949, 948, 945, 940, 919, 938, 937, 928, 925, 922, 920, 1101, 1423, 683, 693, 719, 701, 1125, 1133, 728, 673, 1422, 656, 674, 658, 659, 710, 661, 725, 724, 668, 720, 676, 685, 684, 723, 706, 665, 721, 1127, 679, 1442, 1117, 1118, 735, 672, 647, 713, 649, 1443, 716, 734, 694, 700, 1113, 1057, 1123, 129, 1589, 1347, 931, 1365, 1364, 933, 1593, 1122, 1344, 1053, 932, 909, 1428, 1055, 1050, 585, 1355, 148, 1357, 1162, 923, 926, 144, 905, 1358, 927, 137, 1353, 921, 1124, 1360, 929, 1453, 1494, 1350, 1429, 740, 1340, 1067, 1555, 1175, 1554, 1319, 878, 1316, 877, 1315, 217, 876, 874, 871, 1322, 223, 1177, 1311, 1310, 1179, 865, 1308, 1496, 1307, 233, 1305, 568, 1174, 1441, 1566, 1339, 902, 1337, 682, 1335, 1571, 1334, 935, 896, 1331, 1567, 1565, 1173, 893, 686, 1563, 1562, 1172, 1465, 1329, 889, 1328, 1327, 688, 934, 941, 1595, 1037, 1002, 625, 34, 35, 999, 1035, 39, 40, 997, 623, 994, 1130, 1129, 936, 617, 52, 615, 614, 613, 983, 982, 662, 1425, 1128, 979, 664, 626, 1004, 1408, 28, 1026, 2, 1484, 1024, 1438, 1419, 1030, 1623, 645, 1416, 1621, 1454, 1032, 634, 633, 632, 19, 651, 1439, 1010, 1144, 1033, 1034, 628, 627, 977, 976, 975, 1490, 1600, 1491, 102, 103, 104, 947, 1374, 946, 1493, 109, 1371, 111, 1599, 671, 943, 1370, 942, 1303, 1597, 119, 1158, 121, 939, 1159, 1160, 1462, 1047, 66, 1379, 974, 1038, 1389, 971, 970, 73, 74, 1387, 1039, 77, 1150, 1460, 667, 1606, 1152, 1042, 1605, 1487, 1604, 1154, 1382, 1381, 958, 1126, 1155, 1304, 1301, 238, 1242, 398, 399, 1248, 401, 402, 403, 516, 1247, 775, 1245, 722, 773, 772, 395, 771, 1528, 770, 1239, 417, 769, 1527, 1526, 421, 1525, 1524, 1523, 397, 394, 1263, 1254, 717, 1091, 524, 369, 1447, 371, 1259, 1109, 1532, 1531, 522, 1256, 1253, 1249, 1252, 382, 520, 384, 385, 784, 387, 783, 519, 518, 779, 1250, 1237, 1236, 1522, 1203, 1213, 1504, 1509, 731, 1105, 500, 733, 1434, 1508, 1205, 749, 1204, 1201, 1235, 496, 1200, 1099, 1199, 1506, 745, 484, 485, 736, 487, 1446, 493, 729, 505, 1511, 1512, 1234, 1233, 1232, 1520, 1229, 1228, 765, 1227, 1108, 1225, 509, 1517, 508, 761, 1221, 1107, 1220, 1219, 1217, 1516, 1096, 1215, 1515, 1514, 1513, 1262, 1264, 1497, 837, 846, 702, 843, 842, 1543, 1288, 1187, 279, 1077, 839, 1286, 838, 836, 849, 835, 703, 288, 704, 831, 1282, 830, 829, 1281, 705, 826, 298, 1500, 851, 1502, 1073, 697, 241, 1302, 1548, 244, 490, 1479, 1300, 1299, 859, 250, 251, 1444, 852, 1297, 255, 256, 1546, 258, 1296, 260, 1294, 1184, 1293, 1432, 853, 1279, 825, 544, 1110, 335, 714, 1085, 807, 1268, 340, 341, 342, 343, 805, 345, 346, 803, 1536, 1267, 530, 1472, 352, 1266, 1195, 355, 799, 357, 528, 1265, 797, 1270, 1192, 535, 1625, 303, 1277, 823, 306, 307, 543, 309, 1111, 820, 1276, 313, 314, 315, 708, 1275, 709, 319, 640, 322, 1274, 324, 1272, 712, 328, 1191, 320]\n"
     ]
    },
    {
     "data": {
      "text/plain": [
       "[('Spitfire Grill, The (1996)', 5),\n",
       " ('I.Q. (1994)', 5),\n",
       " ('Deep Rising (1998)', 5),\n",
       " ('Horseman on the Roof, The (Hussard sur le toit, Le) (1995)', 5),\n",
       " (\"I'm Not Rappaport (1996)\", 5),\n",
       " ('Twister (1996)', 5),\n",
       " ('Empire Strikes Back, The (1980)', 5),\n",
       " ('Santa Clause, The (1994)', 5),\n",
       " ('Tom & Viv (1994)', 5),\n",
       " ('Professional, The (1994)', 5)]"
      ]
     },
     "execution_count": 118,
     "metadata": {},
     "output_type": "execute_result"
    }
   ],
   "source": [
    "recommend_classify(3)"
   ]
  }
 ],
 "metadata": {
  "kernelspec": {
   "display_name": "Python 3",
   "language": "python",
   "name": "python3"
  },
  "language_info": {
   "codemirror_mode": {
    "name": "ipython",
    "version": 3
   },
   "file_extension": ".py",
   "mimetype": "text/x-python",
   "name": "python",
   "nbconvert_exporter": "python",
   "pygments_lexer": "ipython3",
   "version": "3.6.0"
  }
 },
 "nbformat": 4,
 "nbformat_minor": 0
}
