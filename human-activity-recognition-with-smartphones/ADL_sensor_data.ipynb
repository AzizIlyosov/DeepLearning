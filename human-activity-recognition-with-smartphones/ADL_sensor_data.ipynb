{
 "cells": [
  {
   "cell_type": "code",
   "execution_count": null,
   "metadata": {
    "collapsed": true
   },
   "outputs": [],
   "source": [
    "#load the data"
   ]
  },
  {
   "cell_type": "code",
   "execution_count": 3,
   "metadata": {
    "collapsed": false
   },
   "outputs": [
    {
     "data": {
      "text/plain": [
       "(7352, 563)"
      ]
     },
     "execution_count": 3,
     "metadata": {},
     "output_type": "execute_result"
    }
   ],
   "source": [
    "import numpy as np # linear algebra\n",
    "import pandas as pd # data processing, CSV file I/O (e.g. pd.read_csv)\n",
    "train = pd.read_csv('train.csv')\n",
    "test  = pd.read_csv('test.csv')\n",
    "train.head()\n",
    "train.shape"
   ]
  },
  {
   "cell_type": "code",
   "execution_count": 4,
   "metadata": {
    "collapsed": false
   },
   "outputs": [
    {
     "name": "stdout",
     "output_type": "stream",
     "text": [
      "(7352, 94)\n"
     ]
    }
   ],
   "source": [
    "import sklearn\n",
    "from sklearn.ensemble import ExtraTreesClassifier\n",
    "from sklearn.feature_selection import SelectFromModel\n",
    "features = train.iloc[:,0:562]\n",
    "label = train['Activity']\n",
    "clf = ExtraTreesClassifier()\n",
    "clf = clf.fit(features, label)\n",
    "model = SelectFromModel(clf, prefit=True)\n",
    "New_features = model.transform(features)\n",
    "print(New_features.shape)"
   ]
  },
  {
   "cell_type": "code",
   "execution_count": 5,
   "metadata": {
    "collapsed": false
   },
   "outputs": [
    {
     "name": "stdout",
     "output_type": "stream",
     "text": [
      "(7352, 105)\n"
     ]
    }
   ],
   "source": [
    "from sklearn.svm import LinearSVC\n",
    "lsvc = LinearSVC(C=0.01, penalty=\"l1\", dual=False).fit(features, label)\n",
    "model_2 = SelectFromModel(lsvc, prefit=True)\n",
    "New_features_2 = model_2.transform(features)\n",
    "print(New_features_2.shape)"
   ]
  },
  {
   "cell_type": "code",
   "execution_count": 6,
   "metadata": {
    "collapsed": true
   },
   "outputs": [],
   "source": [
    "from sklearn.tree import DecisionTreeClassifier\n",
    "from sklearn.ensemble import RandomForestClassifier,GradientBoostingClassifier\n",
    "Classifiers = [DecisionTreeClassifier(),RandomForestClassifier(n_estimators=200),GradientBoostingClassifier(n_estimators=200)]\n",
    "\n",
    "from sklearn.metrics import accuracy_score\n",
    "import timeit\n",
    "test_features= test.iloc[:,0:562]\n",
    "Time_1=[]\n",
    "Model_1=[]\n",
    "Out_Accuracy_1=[]\n",
    "for clf in Classifiers:\n",
    "    start_time = timeit.default_timer()\n",
    "    fit=clf.fit(features,label)\n",
    "    pred=fit.predict(test_features)\n",
    "    elapsed = timeit.default_timer() - start_time\n",
    "    Time_1.append(elapsed)\n",
    "    Model_1.append(clf.__class__.__name__)\n",
    "    Out_Accuracy_1.append(accuracy_score(test['Activity'],pred))"
   ]
  },
  {
   "cell_type": "code",
   "execution_count": 7,
   "metadata": {
    "collapsed": true
   },
   "outputs": [],
   "source": [
    "test_features= model.transform(test.iloc[:,0:562])\n",
    "Time_2=[]\n",
    "Model_2=[]\n",
    "Out_Accuracy_2=[]\n",
    "for clf in Classifiers:\n",
    "    start_time = timeit.default_timer()\n",
    "    fit=clf.fit(New_features,label)\n",
    "    pred=fit.predict(test_features)\n",
    "    elapsed = timeit.default_timer() - start_time\n",
    "    Time_2.append(elapsed)\n",
    "    Model_2.append(clf.__class__.__name__)\n",
    "    Out_Accuracy_2.append(accuracy_score(test['Activity'],pred))"
   ]
  },
  {
   "cell_type": "code",
   "execution_count": 8,
   "metadata": {
    "collapsed": true
   },
   "outputs": [],
   "source": [
    "test_features= model_2.transform(test.iloc[:,0:562])\n",
    "Time_3=[]\n",
    "Model_3=[]\n",
    "Out_Accuracy_3=[]\n",
    "for clf in Classifiers:\n",
    "    start_time = timeit.default_timer()\n",
    "    fit=clf.fit(New_features_2,label)\n",
    "    pred=fit.predict(test_features)\n",
    "    elapsed = timeit.default_timer() - start_time\n",
    "    Time_3.append(elapsed)\n",
    "    Model_3.append(clf.__class__.__name__)\n",
    "    Out_Accuracy_3.append(accuracy_score(test['Activity'],pred))"
   ]
  },
  {
   "cell_type": "code",
   "execution_count": 9,
   "metadata": {
    "collapsed": false
   },
   "outputs": [
    {
     "data": {
      "image/png": "[encoded data removed]",
      "text/plain": [
       "<matplotlib.figure.Figure at 0x1124ce050>"
      ]
     },
     "metadata": {},
     "output_type": "display_data"
    }
   ],
   "source": [
    "import matplotlib.pyplot as plt\n",
    "import numpy as np\n",
    "%matplotlib inline\n",
    "ind =  np.arange(3)   # the x locations for the groups\n",
    "width = 0.1       # the width of the bars\n",
    "fig, ax = plt.subplots()\n",
    "rects1 = ax.bar(ind, Out_Accuracy_1, width, color='r')\n",
    "rects2 = ax.bar(ind + width, Out_Accuracy_2, width, color='y')\n",
    "rects3 = ax.bar(ind + width + width ,Out_Accuracy_3, width, color='b')\n",
    "ax.set_ylabel('Accuracy')\n",
    "ax.set_title('Accuracy by Models and Selection Process')\n",
    "ax.set_xticks(ind + width)\n",
    "ax.set_xticklabels(Model_3,rotation=45)\n",
    "plt.show()"
   ]
  }
 ],
 "metadata": {
  "anaconda-cloud": {},
  "kernelspec": {
   "display_name": "Python [default]",
   "language": "python",
   "name": "python2"
  },
  "language_info": {
   "codemirror_mode": {
    "name": "ipython",
    "version": 2.0
   },
   "file_extension": ".py",
   "mimetype": "text/x-python",
   "name": "python",
   "nbconvert_exporter": "python",
   "pygments_lexer": "ipython2",
   "version": "2.7.12"
  }
 },
 "nbformat": 4,
 "nbformat_minor": 0
}